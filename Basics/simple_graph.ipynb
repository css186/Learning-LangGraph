{
 "cells": [
  {
   "cell_type": "markdown",
   "id": "2b644578",
   "metadata": {},
   "source": [
    "### Simple Workflow Graph\n",
    "#### State\n",
    "1. Define the state\n",
    "2. Use TypedDict"
   ]
  },
  {
   "cell_type": "code",
   "execution_count": 1,
   "id": "ea8124a0",
   "metadata": {},
   "outputs": [],
   "source": [
    "from typing import TypedDict\n",
    "\n",
    "class State(TypedDict):\n",
    "    graph_info: str"
   ]
  },
  {
   "cell_type": "markdown",
   "id": "1dda2e02",
   "metadata": {},
   "source": [
    "### Nodes\n",
    "1. Nodes are just Python functions\n",
    "2. The first positional argument is the state"
   ]
  },
  {
   "cell_type": "code",
   "execution_count": 2,
   "id": "11d666eb",
   "metadata": {},
   "outputs": [],
   "source": [
    "def start_play(state: State):\n",
    "    print(\"Start_Play Node has been called\")\n",
    "    return {\"graph_info\": state[\"graph_info\"] + \"I am planning to play...\"}\n",
    "\n",
    "def baseball(state: State):\n",
    "    print(\"Baseball Node has been called\")\n",
    "    return {\"graph_info\": state[\"graph_info\"] + \"baseball!\"}\n",
    "\n",
    "def basketball(state: State):\n",
    "    print(\"Basketball Node has been called\")\n",
    "    return {\"graph_info\": state[\"graph_info\"] + \"basketball!\"}\n"
   ]
  },
  {
   "cell_type": "code",
   "execution_count": 3,
   "id": "c925be0b",
   "metadata": {},
   "outputs": [],
   "source": [
    "import random\n",
    "from typing import Literal\n",
    "\n",
    "def random_choice(state: State) -> Literal[\"baseball\", \"basketball\"]:\n",
    "    graph_info = state[\"graph_info\"]\n",
    "    if random.random() < 0.5:\n",
    "        return \"baseball\"\n",
    "    else:\n",
    "        return \"basketball\""
   ]
  },
  {
   "cell_type": "code",
   "execution_count": 4,
   "id": "021d8264",
   "metadata": {},
   "outputs": [
    {
     "data": {
      "image/png": "[encoded data removed]",
      "text/plain": [
       "<IPython.core.display.Image object>"
      ]
     },
     "metadata": {},
     "output_type": "display_data"
    }
   ],
   "source": [
    "from IPython.display import Image, display\n",
    "from langgraph.graph import StateGraph, START, END\n",
    "\n",
    "# Build the graph\n",
    "graph = StateGraph(State)\n",
    "\n",
    "graph.add_node(\"start_play\", start_play)\n",
    "graph.add_node(\"baseball\", baseball)\n",
    "graph.add_node(\"basketball\", basketball)\n",
    "\n",
    "\n",
    "# Schedule the flow\n",
    "graph.add_edge(START, \"start_play\")\n",
    "graph.add_conditional_edges(\"start_play\", random_choice)\n",
    "graph.add_edge(\"baseball\", END)\n",
    "graph.add_edge(\"basketball\", END)\n",
    "\n",
    "# Compile the graph\n",
    "app = graph.compile()\n",
    "\n",
    "display(Image(app.get_graph().draw_mermaid_png()))"
   ]
  },
  {
   "cell_type": "code",
   "execution_count": 12,
   "id": "7ea440c0",
   "metadata": {},
   "outputs": [
    {
     "name": "stdout",
     "output_type": "stream",
     "text": [
      "Start_Play Node has been called\n",
      "Basketball Node has been called\n"
     ]
    },
    {
     "data": {
      "text/plain": [
       "{'graph_info': 'My name is John. I am planning to play...basketball!'}"
      ]
     },
     "execution_count": 12,
     "metadata": {},
     "output_type": "execute_result"
    }
   ],
   "source": [
    "# Graph invokation\n",
    "app.invoke({\"graph_info\": \"My name is John. \"})"
   ]
  }
 ],
 "metadata": {
  "kernelspec": {
   "display_name": ".venv",
   "language": "python",
   "name": "python3"
  },
  "language_info": {
   "codemirror_mode": {
    "name": "ipython",
    "version": 3
   },
   "file_extension": ".py",
   "mimetype": "text/x-python",
   "name": "python",
   "nbconvert_exporter": "python",
   "pygments_lexer": "ipython3",
   "version": "3.13.3"
  }
 },
 "nbformat": 4,
 "nbformat_minor": 5
}
