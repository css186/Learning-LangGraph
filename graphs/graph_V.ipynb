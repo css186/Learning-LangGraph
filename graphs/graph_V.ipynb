{
 "cells": [
  {
   "cell_type": "markdown",
   "id": "a5c07b35",
   "metadata": {},
   "source": [
    "# Looping Graph\n",
    "1. Implement `Looping logic` to route the flow\n",
    "2. Create a single `conditional edge` to handle the control flow"
   ]
  },
  {
   "cell_type": "code",
   "execution_count": 2,
   "id": "2e33ee95",
   "metadata": {},
   "outputs": [],
   "source": [
    "from typing import TypedDict, List, Dict\n",
    "from langgraph.graph import StateGraph, START, END\n",
    "import random"
   ]
  },
  {
   "cell_type": "code",
   "execution_count": 3,
   "id": "0990d817",
   "metadata": {},
   "outputs": [],
   "source": [
    "class AgentState(TypedDict):\n",
    "    name: str\n",
    "    numbers: List[int]\n",
    "    counter: int"
   ]
  },
  {
   "cell_type": "code",
   "execution_count": 5,
   "id": "85778179",
   "metadata": {},
   "outputs": [],
   "source": [
    "def greeting_node(state: AgentState) -> AgentState:\n",
    "    \"\"\"\n",
    "    This node says hi to the person\n",
    "    \"\"\"\n",
    "    state[\"name\"] = f\"Hi there, {state[\"name\"]}\"\n",
    "    state[\"counter\"] = 0\n",
    "    return state\n",
    "\n",
    "def random_node(state: AgentState) -> AgentState:\n",
    "    \"\"\"\n",
    "    This node generates a list of random numbers\n",
    "    \"\"\"\n",
    "    state[\"numbers\"].append(random.randint(0, 10))\n",
    "    state[\"counter\"] += 1\n",
    "    return state\n",
    "\n",
    "def to_continue(state: AgentState) -> AgentState:\n",
    "    \"\"\"\n",
    "    Function to decide what to do next\n",
    "    \"\"\"\n",
    "    if state[\"counter\"] < 5:\n",
    "        print(\"ENTERING LOOP:\", state[\"counter\"])\n",
    "        return \"loop\" # loop edge\n",
    "    else:\n",
    "        return \"exit\" # exit edge"
   ]
  },
  {
   "cell_type": "code",
   "execution_count": 9,
   "id": "7f1a169e",
   "metadata": {},
   "outputs": [],
   "source": [
    "graph = StateGraph(AgentState)\n",
    "\n",
    "graph.add_node(\"greeter\", greeting_node)\n",
    "graph.add_node(\"randomizer\", random_node)\n",
    "\n",
    "graph.add_edge(START, \"greeter\")\n",
    "graph.add_edge(\"greeter\", \"randomizer\")\n",
    "\n",
    "\n",
    "graph.add_conditional_edges(\n",
    "    \"randomizer\",\n",
    "    to_continue,\n",
    "    {\n",
    "        \"loop\": \"randomizer\",\n",
    "        \"exit\": END\n",
    "    }\n",
    ")\n",
    "\n",
    "app = graph.compile()"
   ]
  },
  {
   "cell_type": "code",
   "execution_count": 10,
   "id": "cb87f7a7",
   "metadata": {},
   "outputs": [
    {
     "data": {
      "image/png": "[encoded data removed]",
      "text/plain": [
       "<IPython.core.display.Image object>"
      ]
     },
     "metadata": {},
     "output_type": "display_data"
    }
   ],
   "source": [
    "from IPython.display import Image, display\n",
    "display(Image(app.get_graph().draw_mermaid_png()))"
   ]
  },
  {
   "cell_type": "code",
   "execution_count": 11,
   "id": "43386257",
   "metadata": {},
   "outputs": [
    {
     "name": "stdout",
     "output_type": "stream",
     "text": [
      "ENTERING LOOP: 1\n",
      "ENTERING LOOP: 2\n",
      "ENTERING LOOP: 3\n",
      "ENTERING LOOP: 4\n",
      "{'name': 'Hi there, Alice', 'numbers': [2, 7, 0, 9, 3], 'counter': 5}\n"
     ]
    }
   ],
   "source": [
    "init_state = AgentState(\n",
    "    name=\"Alice\",\n",
    "    numbers=[],\n",
    "    counter=0\n",
    ")\n",
    "\n",
    "result = app.invoke(init_state)\n",
    "print(result)"
   ]
  },
  {
   "cell_type": "markdown",
   "id": "3d20b815",
   "metadata": {},
   "source": [
    "# Exercise\n",
    "Higher or lower game"
   ]
  },
  {
   "cell_type": "code",
   "execution_count": 53,
   "id": "d217945c",
   "metadata": {},
   "outputs": [],
   "source": [
    "class GameState(TypedDict):\n",
    "    player_name: str\n",
    "    guesses: List[int]\n",
    "    target: int\n",
    "    attempts: int\n",
    "    lower_bound: int\n",
    "    upper_bound: int\n",
    "    output: str\n",
    "\n",
    "\n",
    "def setup_node(state: GameState) -> GameState:\n",
    "    \"\"\"\n",
    "    This node sets up the game\n",
    "    \"\"\"\n",
    "    print(f\"Hi {state[\"player_name\"]},  Welcome to the Number Guessing Game!\")\n",
    "    state[\"attempts\"] = 0\n",
    "    state[\"lower_bound\"] = 1\n",
    "    state[\"upper_bound\"] = 20\n",
    "    state[\"target\"] = random.randint(state[\"lower_bound\"], state[\"upper_bound\"])\n",
    "    state[\"guesses\"] = []\n",
    "    state[\"output\"] = \"\"\n",
    "    return state\n",
    "\n",
    "def guess_number_node(state: GameState) -> GameState:\n",
    "    \"\"\"\n",
    "    This node will guess the number\n",
    "    \"\"\"\n",
    "    state[\"attempts\"] += 1\n",
    "    guessed_number = random.randint(state[\"lower_bound\"], state[\"upper_bound\"])\n",
    "    state[\"guesses\"].append(guessed_number)\n",
    "    return state\n",
    "\n",
    "def hint_node(state: GameState) -> GameState:\n",
    "    \"\"\"\n",
    "    This node gives a hint based on the guess\n",
    "    \"\"\"\n",
    "    guessed_number = state[\"guesses\"][-1]\n",
    "    target = state[\"target\"]\n",
    "\n",
    "    if guessed_number < target:\n",
    "        state[\"output\"] = f\"Your guess {guessed_number} is too low!\"\n",
    "        state[\"lower_bound\"] = guessed_number + 1\n",
    "        print(state[\"output\"])\n",
    "\n",
    "    elif guessed_number > target:\n",
    "        state[\"output\"] = f\"Your guess {guessed_number} is too high!\"\n",
    "        state[\"upper_bound\"] = guessed_number - 1\n",
    "        print(state[\"output\"])\n",
    "\n",
    "    else:\n",
    "        state[\"output\"] = f\"Congratulations {state['player_name']}! You guessed the number {target} in {state['attempts']} attempts!\"\n",
    "        print(state[\"output\"])\n",
    "\n",
    "    return state\n",
    "\n",
    "def to_continue_game(state: GameState) -> GameState:\n",
    "    \"\"\"\n",
    "    Function to decide what to do next in the game\n",
    "    \"\"\"\n",
    "    guessed_number = state[\"guesses\"][-1]\n",
    "    target = state[\"target\"]\n",
    "\n",
    "    if guessed_number == target:\n",
    "        return \"exit\"\n",
    "\n",
    "    else:\n",
    "        if state[\"attempts\"] >= 7:\n",
    "            state[\"output\"] = f\"Sorry {state['player_name']}, you've used all your attempts! The number was {target}.\"\n",
    "            print(state[\"output\"])\n",
    "            return \"exit\"\n",
    "        else:\n",
    "            print(f\"Continuing the game... {state[\"attempts\"]} / 7 attempts\")\n",
    "            return \"loop\"\n",
    "    "
   ]
  },
  {
   "cell_type": "code",
   "execution_count": 54,
   "id": "2495cb26",
   "metadata": {},
   "outputs": [
    {
     "data": {
      "image/png": "[encoded data removed]",
      "text/plain": [
       "<IPython.core.display.Image object>"
      ]
     },
     "metadata": {},
     "output_type": "display_data"
    }
   ],
   "source": [
    "game_graph = StateGraph(GameState)\n",
    "\n",
    "game_graph.add_node(\"setup\", setup_node)\n",
    "game_graph.add_node(\"guess_number\", guess_number_node)\n",
    "game_graph.add_node(\"hint\", hint_node)\n",
    "\n",
    "game_graph.add_edge(START, \"setup\")\n",
    "game_graph.add_edge(\"setup\", \"guess_number\")\n",
    "game_graph.add_edge(\"guess_number\", \"hint\")\n",
    "\n",
    "\n",
    "game_graph.add_conditional_edges(\n",
    "    \"hint\",\n",
    "    to_continue_game,\n",
    "    {\n",
    "        \"loop\": \"guess_number\",\n",
    "        \"exit\": END\n",
    "    }\n",
    ")\n",
    "game_app = game_graph.compile()\n",
    "\n",
    "from IPython.display import Image, display\n",
    "display(Image(game_app.get_graph().draw_mermaid_png()))"
   ]
  },
  {
   "cell_type": "code",
   "execution_count": 55,
   "id": "7be53adc",
   "metadata": {},
   "outputs": [],
   "source": [
    "game_start_state = GameState(\n",
    "    player_name=\"Alice\",\n",
    "    guesses=[],\n",
    "    attempts=0,\n",
    "    lower_bound=1,\n",
    "    upper_bound=20,\n",
    ")"
   ]
  },
  {
   "cell_type": "code",
   "execution_count": 104,
   "id": "f0018f2d",
   "metadata": {},
   "outputs": [
    {
     "name": "stdout",
     "output_type": "stream",
     "text": [
      "Hi Alice,  Welcome to the Number Guessing Game!\n",
      "Your guess 2 is too low!\n",
      "Continuing the game... 1 / 7 attempts\n",
      "Your guess 15 is too high!\n",
      "Continuing the game... 2 / 7 attempts\n",
      "Your guess 5 is too low!\n",
      "Continuing the game... 3 / 7 attempts\n",
      "Your guess 14 is too high!\n",
      "Continuing the game... 4 / 7 attempts\n",
      "Your guess 6 is too low!\n",
      "Continuing the game... 5 / 7 attempts\n",
      "Your guess 7 is too low!\n",
      "Continuing the game... 6 / 7 attempts\n",
      "Your guess 12 is too high!\n",
      "Sorry Alice, you've used all your attempts! The number was 8.\n",
      "{'player_name': 'Alice', 'guesses': [2, 15, 5, 14, 6, 7, 12], 'target': 8, 'attempts': 7, 'lower_bound': 8, 'upper_bound': 11, 'output': 'Your guess 12 is too high!'}\n"
     ]
    }
   ],
   "source": [
    "game_result = game_app.invoke(game_start_state)\n",
    "print(game_result)"
   ]
  }
 ],
 "metadata": {
  "kernelspec": {
   "display_name": ".venv",
   "language": "python",
   "name": "python3"
  },
  "language_info": {
   "codemirror_mode": {
    "name": "ipython",
    "version": 3
   },
   "file_extension": ".py",
   "mimetype": "text/x-python",
   "name": "python",
   "nbconvert_exporter": "python",
   "pygments_lexer": "ipython3",
   "version": "3.13.3"
  }
 },
 "nbformat": 4,
 "nbformat_minor": 5
}
