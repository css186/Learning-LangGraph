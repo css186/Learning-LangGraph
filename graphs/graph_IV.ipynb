{
 "cells": [
  {
   "cell_type": "markdown",
   "id": "05976f49",
   "metadata": {},
   "source": [
    "# Conditional Graph\n",
    "1. Implement conditional logic to route the flow\n",
    "2. Use `START` and `END` nodes to manage entry and exit point\n",
    "3. Design multiple nodes to perform different operations\n",
    "4. Create a `route node` to handle decision-making and control flow\n",
    "\n",
    "Goal: Know how to use `add_conditional_edges()`"
   ]
  },
  {
   "cell_type": "code",
   "execution_count": 2,
   "id": "0ff75128",
   "metadata": {},
   "outputs": [],
   "source": [
    "from typing import TypedDict, List\n",
    "from langgraph.graph import StateGraph, START, END"
   ]
  },
  {
   "cell_type": "code",
   "execution_count": 7,
   "id": "ed8a0b8d",
   "metadata": {},
   "outputs": [],
   "source": [
    "# state schema\n",
    "class AgentState(TypedDict):\n",
    "    num1: int\n",
    "    operator: str\n",
    "    num2: int\n",
    "    output: int"
   ]
  },
  {
   "cell_type": "code",
   "execution_count": 10,
   "id": "d4f75490",
   "metadata": {},
   "outputs": [],
   "source": [
    "def add(state: AgentState) -> AgentState:\n",
    "    \"\"\"\n",
    "    This function will add two numbers and return the result.\n",
    "    \"\"\"\n",
    "    state[\"output\"] = state[\"num1\"] + state[\"num2\"]\n",
    "    return state\n",
    "\n",
    "def subtract(state: AgentState) -> AgentState:\n",
    "    \"\"\"\n",
    "    This function will subtract two numbers and return the result.\n",
    "    \"\"\"\n",
    "    state[\"output\"] = state[\"num1\"] - state[\"num2\"]\n",
    "    return state\n",
    "\n",
    "def decide_next_node(state: AgentState) -> AgentState:\n",
    "    \"\"\"\n",
    "    This node will decide the next node to go to\n",
    "    \"\"\"\n",
    "    if state[\"operator\"] == \"+\":\n",
    "        return \"addition_operation\" # return the edge of the nodes\n",
    "    elif state[\"operator\"] == \"-\":\n",
    "        return \"subtraction_operation\""
   ]
  },
  {
   "cell_type": "code",
   "execution_count": 13,
   "id": "f1de4d39",
   "metadata": {},
   "outputs": [],
   "source": [
    "graph = StateGraph(AgentState)\n",
    "\n",
    "graph.add_node(\"add_node\", add)\n",
    "graph.add_node(\"subtract_node\", subtract)\n",
    "\n",
    "# add router\n",
    "graph.add_node(\"router\", lambda state:state) # since we are not changing the state, we can just return the state (it's called pass-through function)\n",
    "\n",
    "graph.add_edge(START, \"router\")\n",
    "graph.add_conditional_edges(\n",
    "    \"router\",\n",
    "    decide_next_node,\n",
    "    {\n",
    "        \"addition_operation\": \"add_node\",\n",
    "        \"subtraction_operation\": \"subtract_node\",\n",
    "    }\n",
    ")\n",
    "graph.add_edge(\"add_node\", END)\n",
    "graph.add_edge(\"subtract_node\", END)\n",
    "\n",
    "app = graph.compile()"
   ]
  },
  {
   "cell_type": "code",
   "execution_count": 14,
   "id": "35fb931a",
   "metadata": {},
   "outputs": [
    {
     "data": {
      "image/png": "[encoded data removed]",
      "text/plain": [
       "<IPython.core.display.Image object>"
      ]
     },
     "metadata": {},
     "output_type": "display_data"
    }
   ],
   "source": [
    "from IPython.display import Image, display\n",
    "display(Image(app.get_graph().draw_mermaid_png()))"
   ]
  },
  {
   "cell_type": "code",
   "execution_count": 17,
   "id": "7120d791",
   "metadata": {},
   "outputs": [
    {
     "name": "stdout",
     "output_type": "stream",
     "text": [
      "{'num1': 1, 'operator': '+', 'num2': 2, 'output': 3}\n",
      "{'num1': 3, 'operator': '-', 'num2': 5, 'output': -2}\n"
     ]
    }
   ],
   "source": [
    "init_state_1 =  AgentState(num1=1, operator=\"+\", num2=2)\n",
    "print(app.invoke(init_state_1))\n",
    "\n",
    "init_state_2 = AgentState(num1=3, operator=\"-\", num2=5)\n",
    "print(app.invoke(init_state_2))"
   ]
  },
  {
   "cell_type": "markdown",
   "id": "b3ade26b",
   "metadata": {},
   "source": [
    "# Exercise\n",
    "Do a two layer router"
   ]
  },
  {
   "cell_type": "code",
   "execution_count": 18,
   "id": "ef6ab4f9",
   "metadata": {},
   "outputs": [],
   "source": [
    "class State(TypedDict):\n",
    "    num1: int\n",
    "    operator1: str\n",
    "    num2: int\n",
    "    num3: int\n",
    "    operator2: str\n",
    "    num4: int\n",
    "    output1: int\n",
    "    output2: int\n",
    "\n",
    "def add_1(state: State) -> State:\n",
    "    \"\"\"\n",
    "    First addition operation\n",
    "    \"\"\"\n",
    "    state[\"output1\"] = state[\"num1\"] + state[\"num2\"]\n",
    "    return state\n",
    "\n",
    "def subtract_1(state: State) -> State:\n",
    "    \"\"\"\n",
    "    First subtraction operation\n",
    "    \"\"\"\n",
    "    state[\"output1\"] = state[\"num1\"] - state[\"num2\"]\n",
    "    return state\n",
    "\n",
    "def add_2(state: State) -> State:\n",
    "    \"\"\"\n",
    "    Second addition operation\n",
    "    \"\"\"\n",
    "    state[\"output2\"] = state[\"num3\"] + state[\"num4\"]\n",
    "    return state\n",
    "\n",
    "def subtract_2(state: State) -> State:\n",
    "    \"\"\"\n",
    "    Second subtraction operation\n",
    "    \"\"\"\n",
    "    state[\"output2\"] = state[\"num3\"] - state[\"num4\"]\n",
    "    return state\n",
    "\n",
    "def next_node_1(state: State) -> State:\n",
    "    \"\"\"\n",
    "    First router\n",
    "    \"\"\"\n",
    "    if state[\"operator1\"] == \"+\":\n",
    "        return \"add_operation_1\"\n",
    "    elif state[\"operator1\"] == \"-\":\n",
    "        return \"subtract_operation_1\"\n",
    "\n",
    "def next_node_2(state: State) -> State:\n",
    "    \"\"\"\n",
    "    Second router\n",
    "    \"\"\"\n",
    "    if state[\"operator2\"] == \"+\":\n",
    "        return \"add_operation_2\"\n",
    "    elif state[\"operator2\"] == \"-\":\n",
    "        return \"subtract_operation_2\""
   ]
  },
  {
   "cell_type": "code",
   "execution_count": 19,
   "id": "de7033fc",
   "metadata": {},
   "outputs": [],
   "source": [
    "new_graph = StateGraph(State)\n",
    "new_graph.add_node(\"add_node_1\", add_1)\n",
    "new_graph.add_node(\"subtract_node_1\", subtract_1)\n",
    "new_graph.add_node(\"add_node_2\", add_2)\n",
    "new_graph.add_node(\"subtract_node_2\", subtract_2)\n",
    "\n",
    "new_graph.add_node(\"router_1\", lambda state:state)\n",
    "new_graph.add_node(\"router_2\", lambda state:state)\n",
    "\n",
    "new_graph.add_edge(START, \"router_1\")\n",
    "new_graph.add_conditional_edges(\n",
    "    \"router_1\",\n",
    "    next_node_1,\n",
    "    {\n",
    "        \"add_operation_1\": \"add_node_1\",\n",
    "        \"subtract_operation_1\": \"subtract_node_1\",\n",
    "    }\n",
    ")\n",
    "\n",
    "new_graph.add_edge(\"add_node_1\", \"router_2\")\n",
    "new_graph.add_edge(\"subtract_node_1\", \"router_2\")\n",
    "\n",
    "new_graph.add_conditional_edges(\n",
    "    \"router_2\",\n",
    "    next_node_2,\n",
    "    {\n",
    "        \"add_operation_2\": \"add_node_2\",\n",
    "        \"subtract_operation_2\": \"subtract_node_2\",\n",
    "    }\n",
    ")\n",
    "\n",
    "new_graph.add_edge(\"add_node_2\", END)\n",
    "new_graph.add_edge(\"subtract_node_2\", END)\n",
    "\n",
    "new_app = new_graph.compile()"
   ]
  },
  {
   "cell_type": "code",
   "execution_count": 20,
   "id": "78f0be72",
   "metadata": {},
   "outputs": [
    {
     "data": {
      "image/png": "[encoded data removed]",
      "text/plain": [
       "<IPython.core.display.Image object>"
      ]
     },
     "metadata": {},
     "output_type": "display_data"
    }
   ],
   "source": [
    "display(Image(new_app.get_graph().draw_mermaid_png()))"
   ]
  },
  {
   "cell_type": "code",
   "execution_count": 21,
   "id": "b1cd3395",
   "metadata": {},
   "outputs": [
    {
     "name": "stdout",
     "output_type": "stream",
     "text": [
      "{'num1': 10, 'operator1': '-', 'num2': 5, 'num3': 7, 'operator2': '+', 'num4': 2, 'output1': 5, 'output2': 9}\n"
     ]
    }
   ],
   "source": [
    "new_init_state = State(\n",
    "    num1=10,\n",
    "    operator1=\"-\",\n",
    "    num2=5,\n",
    "    num3=7,\n",
    "    operator2=\"+\",\n",
    "    num4=2,\n",
    "    output1=0,\n",
    "    output2=0,\n",
    ")\n",
    "\n",
    "result = new_app.invoke(new_init_state)\n",
    "print(result)"
   ]
  },
  {
   "cell_type": "code",
   "execution_count": null,
   "id": "6d9fc447",
   "metadata": {},
   "outputs": [],
   "source": []
  }
 ],
 "metadata": {
  "kernelspec": {
   "display_name": ".venv",
   "language": "python",
   "name": "python3"
  },
  "language_info": {
   "codemirror_mode": {
    "name": "ipython",
    "version": 3
   },
   "file_extension": ".py",
   "mimetype": "text/x-python",
   "name": "python",
   "nbconvert_exporter": "python",
   "pygments_lexer": "ipython3",
   "version": "3.13.3"
  }
 },
 "nbformat": 4,
 "nbformat_minor": 5
}
