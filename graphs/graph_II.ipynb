{
 "cells": [
  {
   "cell_type": "markdown",
   "id": "02d76ad5",
   "metadata": {},
   "source": [
    "# Multi-Input Graph\n",
    "1. Define a more complex `AgentState`\n",
    "2. Create a processing node on a `list data`\n",
    "3. Set up a `LangGraph` that processes and outputs computed results.\n",
    "4. Invoke the graph with structured inputs and retrieve outputs"
   ]
  },
  {
   "cell_type": "code",
   "execution_count": 1,
   "id": "e1e80175",
   "metadata": {},
   "outputs": [],
   "source": [
    "from typing import TypedDict, List\n",
    "from langgraph.graph import StateGraph"
   ]
  },
  {
   "cell_type": "code",
   "execution_count": 4,
   "id": "ba65c02c",
   "metadata": {},
   "outputs": [],
   "source": [
    "class AgentState(TypedDict):\n",
    "    values: List[int]\n",
    "    name: str\n",
    "    result: str"
   ]
  },
  {
   "cell_type": "code",
   "execution_count": 5,
   "id": "759867e6",
   "metadata": {},
   "outputs": [],
   "source": [
    "def process_values(state: AgentState) -> AgentState:\n",
    "    \"\"\"\n",
    "    This function processes multiple different inputs\n",
    "    \"\"\"\n",
    "    state[\"result\"] = f\"Hi there {state[\"name\"]}, the sum of your values is {sum(state[\"values\"])}\"\n",
    "    return state\n"
   ]
  },
  {
   "cell_type": "code",
   "execution_count": 6,
   "id": "05e02e6e",
   "metadata": {},
   "outputs": [],
   "source": [
    "graph = StateGraph(AgentState)\n",
    "graph.add_node(\"processor\", process_values)\n",
    "graph.set_entry_point(\"processor\")\n",
    "graph.set_finish_point(\"processor\")\n",
    "app = graph.compile()\n"
   ]
  },
  {
   "cell_type": "code",
   "execution_count": 8,
   "id": "5ca89b27",
   "metadata": {},
   "outputs": [
    {
     "name": "stdout",
     "output_type": "stream",
     "text": [
      "Hi there Steve, the sum of your values is 10\n"
     ]
    }
   ],
   "source": [
    "answers = app.invoke({\n",
    "    \"values\": [1, 2, 3, 4],\n",
    "    \"name\": \"Steve\",\n",
    "})\n",
    "\n",
    "print(answers[\"result\"])"
   ]
  },
  {
   "cell_type": "markdown",
   "id": "b1f3c529",
   "metadata": {},
   "source": [
    "# Exercise\n",
    "1. \"+\": do add operations\n",
    "2. \"*\": do multiply operations"
   ]
  },
  {
   "cell_type": "code",
   "execution_count": 9,
   "id": "108a747e",
   "metadata": {},
   "outputs": [],
   "source": [
    "class OperationState(TypedDict):\n",
    "    values: List[int]\n",
    "    name: str\n",
    "    operation: str\n",
    "    result: str\n",
    "\n",
    "def do_operation(state: OperationState) -> OperationState:\n",
    "    \"\"\"\n",
    "    This function processes multiple different inputs\n",
    "    \"\"\"\n",
    "    import math\n",
    "    if state[\"operation\"] == \"+\":\n",
    "        state[\"result\"] = f\"Hi {state[\"name\"]}, your answer is: {sum(state[\"values\"])}\"\n",
    "    elif state[\"operation\"] == \"*\":\n",
    "        state[\"result\"] = f\"Hi {state[\"name\"]}, your answer is: {math.prod(state[\"values\"])}\"\n",
    "    else:\n",
    "        state[\"result\"] = f\"Hi {state[\"name\"]}, I don't know how to do that operation\"\n",
    "    return state"
   ]
  },
  {
   "cell_type": "code",
   "execution_count": 11,
   "id": "24dc76e9",
   "metadata": {},
   "outputs": [
    {
     "name": "stdout",
     "output_type": "stream",
     "text": [
      "Hi Steve, your answer is: 24\n"
     ]
    }
   ],
   "source": [
    "new_graph = StateGraph(OperationState)\n",
    "new_graph.add_node(\"operator\", do_operation)\n",
    "new_graph.set_entry_point(\"operator\")\n",
    "new_graph.set_finish_point(\"operator\")\n",
    "app = new_graph.compile()\n",
    "answers = app.invoke({\n",
    "    \"values\": [1, 2, 3, 4],\n",
    "    \"name\": \"Steve\",\n",
    "    \"operation\": \"*\"\n",
    "})\n",
    "print(answers[\"result\"])"
   ]
  }
 ],
 "metadata": {
  "kernelspec": {
   "display_name": ".venv",
   "language": "python",
   "name": "python3"
  },
  "language_info": {
   "codemirror_mode": {
    "name": "ipython",
    "version": 3
   },
   "file_extension": ".py",
   "mimetype": "text/x-python",
   "name": "python",
   "nbconvert_exporter": "python",
   "pygments_lexer": "ipython3",
   "version": "3.13.3"
  }
 },
 "nbformat": 4,
 "nbformat_minor": 5
}
